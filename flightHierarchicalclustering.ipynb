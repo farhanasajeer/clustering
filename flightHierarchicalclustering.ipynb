{
  "nbformat": 4,
  "nbformat_minor": 0,
  "metadata": {
    "colab": {
      "name": "flightHierarchicalclustering.ipynb",
      "provenance": []
    },
    "kernelspec": {
      "name": "python3",
      "display_name": "Python 3"
    },
    "language_info": {
      "name": "python"
    }
  },
  "cells": [
    {
      "cell_type": "code",
      "execution_count": null,
      "metadata": {
        "id": "e3UCUlpUwGHV"
      },
      "outputs": [],
      "source": [
        "from matplotlib import pyplot as plt\n",
        "import pandas as pd\n",
        "%matplotlib inline\n",
        "import numpy as np"
      ]
    },
    {
      "cell_type": "code",
      "source": [
        "flight=pd.read_csv(\"/content/drive/MyDrive/flights.csv\")"
      ],
      "metadata": {
        "id": "B7a8rBBvwQoH"
      },
      "execution_count": null,
      "outputs": []
    },
    {
      "cell_type": "code",
      "source": [
        "flight.shape"
      ],
      "metadata": {
        "colab": {
          "base_uri": "https://localhost:8080/"
        },
        "id": "Tff_5poFwdnq",
        "outputId": "98481f8c-272d-44e3-8909-a0384fbc737e"
      },
      "execution_count": null,
      "outputs": [
        {
          "output_type": "execute_result",
          "data": {
            "text/plain": [
              "(144, 3)"
            ]
          },
          "metadata": {},
          "execution_count": 81
        }
      ]
    },
    {
      "cell_type": "code",
      "source": [
        "flight.head()"
      ],
      "metadata": {
        "colab": {
          "base_uri": "https://localhost:8080/",
          "height": 206
        },
        "id": "l5tdA1kCwgY7",
        "outputId": "faf35e7f-8e57-4c8b-9ca5-ef7a17b57927"
      },
      "execution_count": null,
      "outputs": [
        {
          "output_type": "execute_result",
          "data": {
            "text/plain": [
              "   year     month  passengers\n",
              "0  1949   January         112\n",
              "1  1949  February         118\n",
              "2  1949     March         132\n",
              "3  1949     April         129\n",
              "4  1949       May         121"
            ],
            "text/html": [
              "\n",
              "  <div id=\"df-edf13eae-a2be-4963-877a-cf854a0de0f8\">\n",
              "    <div class=\"colab-df-container\">\n",
              "      <div>\n",
              "<style scoped>\n",
              "    .dataframe tbody tr th:only-of-type {\n",
              "        vertical-align: middle;\n",
              "    }\n",
              "\n",
              "    .dataframe tbody tr th {\n",
              "        vertical-align: top;\n",
              "    }\n",
              "\n",
              "    .dataframe thead th {\n",
              "        text-align: right;\n",
              "    }\n",
              "</style>\n",
              "<table border=\"1\" class=\"dataframe\">\n",
              "  <thead>\n",
              "    <tr style=\"text-align: right;\">\n",
              "      <th></th>\n",
              "      <th>year</th>\n",
              "      <th>month</th>\n",
              "      <th>passengers</th>\n",
              "    </tr>\n",
              "  </thead>\n",
              "  <tbody>\n",
              "    <tr>\n",
              "      <th>0</th>\n",
              "      <td>1949</td>\n",
              "      <td>January</td>\n",
              "      <td>112</td>\n",
              "    </tr>\n",
              "    <tr>\n",
              "      <th>1</th>\n",
              "      <td>1949</td>\n",
              "      <td>February</td>\n",
              "      <td>118</td>\n",
              "    </tr>\n",
              "    <tr>\n",
              "      <th>2</th>\n",
              "      <td>1949</td>\n",
              "      <td>March</td>\n",
              "      <td>132</td>\n",
              "    </tr>\n",
              "    <tr>\n",
              "      <th>3</th>\n",
              "      <td>1949</td>\n",
              "      <td>April</td>\n",
              "      <td>129</td>\n",
              "    </tr>\n",
              "    <tr>\n",
              "      <th>4</th>\n",
              "      <td>1949</td>\n",
              "      <td>May</td>\n",
              "      <td>121</td>\n",
              "    </tr>\n",
              "  </tbody>\n",
              "</table>\n",
              "</div>\n",
              "      <button class=\"colab-df-convert\" onclick=\"convertToInteractive('df-edf13eae-a2be-4963-877a-cf854a0de0f8')\"\n",
              "              title=\"Convert this dataframe to an interactive table.\"\n",
              "              style=\"display:none;\">\n",
              "        \n",
              "  <svg xmlns=\"http://www.w3.org/2000/svg\" height=\"24px\"viewBox=\"0 0 24 24\"\n",
              "       width=\"24px\">\n",
              "    <path d=\"M0 0h24v24H0V0z\" fill=\"none\"/>\n",
              "    <path d=\"M18.56 5.44l.94 2.06.94-2.06 2.06-.94-2.06-.94-.94-2.06-.94 2.06-2.06.94zm-11 1L8.5 8.5l.94-2.06 2.06-.94-2.06-.94L8.5 2.5l-.94 2.06-2.06.94zm10 10l.94 2.06.94-2.06 2.06-.94-2.06-.94-.94-2.06-.94 2.06-2.06.94z\"/><path d=\"M17.41 7.96l-1.37-1.37c-.4-.4-.92-.59-1.43-.59-.52 0-1.04.2-1.43.59L10.3 9.45l-7.72 7.72c-.78.78-.78 2.05 0 2.83L4 21.41c.39.39.9.59 1.41.59.51 0 1.02-.2 1.41-.59l7.78-7.78 2.81-2.81c.8-.78.8-2.07 0-2.86zM5.41 20L4 18.59l7.72-7.72 1.47 1.35L5.41 20z\"/>\n",
              "  </svg>\n",
              "      </button>\n",
              "      \n",
              "  <style>\n",
              "    .colab-df-container {\n",
              "      display:flex;\n",
              "      flex-wrap:wrap;\n",
              "      gap: 12px;\n",
              "    }\n",
              "\n",
              "    .colab-df-convert {\n",
              "      background-color: #E8F0FE;\n",
              "      border: none;\n",
              "      border-radius: 50%;\n",
              "      cursor: pointer;\n",
              "      display: none;\n",
              "      fill: #1967D2;\n",
              "      height: 32px;\n",
              "      padding: 0 0 0 0;\n",
              "      width: 32px;\n",
              "    }\n",
              "\n",
              "    .colab-df-convert:hover {\n",
              "      background-color: #E2EBFA;\n",
              "      box-shadow: 0px 1px 2px rgba(60, 64, 67, 0.3), 0px 1px 3px 1px rgba(60, 64, 67, 0.15);\n",
              "      fill: #174EA6;\n",
              "    }\n",
              "\n",
              "    [theme=dark] .colab-df-convert {\n",
              "      background-color: #3B4455;\n",
              "      fill: #D2E3FC;\n",
              "    }\n",
              "\n",
              "    [theme=dark] .colab-df-convert:hover {\n",
              "      background-color: #434B5C;\n",
              "      box-shadow: 0px 1px 3px 1px rgba(0, 0, 0, 0.15);\n",
              "      filter: drop-shadow(0px 1px 2px rgba(0, 0, 0, 0.3));\n",
              "      fill: #FFFFFF;\n",
              "    }\n",
              "  </style>\n",
              "\n",
              "      <script>\n",
              "        const buttonEl =\n",
              "          document.querySelector('#df-edf13eae-a2be-4963-877a-cf854a0de0f8 button.colab-df-convert');\n",
              "        buttonEl.style.display =\n",
              "          google.colab.kernel.accessAllowed ? 'block' : 'none';\n",
              "\n",
              "        async function convertToInteractive(key) {\n",
              "          const element = document.querySelector('#df-edf13eae-a2be-4963-877a-cf854a0de0f8');\n",
              "          const dataTable =\n",
              "            await google.colab.kernel.invokeFunction('convertToInteractive',\n",
              "                                                     [key], {});\n",
              "          if (!dataTable) return;\n",
              "\n",
              "          const docLinkHtml = 'Like what you see? Visit the ' +\n",
              "            '<a target=\"_blank\" href=https://colab.research.google.com/notebooks/data_table.ipynb>data table notebook</a>'\n",
              "            + ' to learn more about interactive tables.';\n",
              "          element.innerHTML = '';\n",
              "          dataTable['output_type'] = 'display_data';\n",
              "          await google.colab.output.renderOutput(dataTable, element);\n",
              "          const docLink = document.createElement('div');\n",
              "          docLink.innerHTML = docLinkHtml;\n",
              "          element.appendChild(docLink);\n",
              "        }\n",
              "      </script>\n",
              "    </div>\n",
              "  </div>\n",
              "  "
            ]
          },
          "metadata": {},
          "execution_count": 82
        }
      ]
    },
    {
      "cell_type": "code",
      "source": [
        "flight=flight.drop(['month'],axis=1)"
      ],
      "metadata": {
        "id": "SXcMW4s602ty"
      },
      "execution_count": null,
      "outputs": []
    },
    {
      "cell_type": "code",
      "source": [
        "flight=flight.iloc[:,-2:].values"
      ],
      "metadata": {
        "id": "rL_075nGw4mT"
      },
      "execution_count": null,
      "outputs": []
    },
    {
      "cell_type": "code",
      "source": [
        "flight"
      ],
      "metadata": {
        "colab": {
          "base_uri": "https://localhost:8080/"
        },
        "id": "ZVB-MgSISB9W",
        "outputId": "daa3fa51-f543-4425-f5a4-82bdac56f9ee"
      },
      "execution_count": null,
      "outputs": [
        {
          "output_type": "execute_result",
          "data": {
            "text/plain": [
              "array([[1949,  112],\n",
              "       [1949,  118],\n",
              "       [1949,  132],\n",
              "       [1949,  129],\n",
              "       [1949,  121],\n",
              "       [1949,  135],\n",
              "       [1949,  148],\n",
              "       [1949,  148],\n",
              "       [1949,  136],\n",
              "       [1949,  119],\n",
              "       [1949,  104],\n",
              "       [1949,  118],\n",
              "       [1950,  115],\n",
              "       [1950,  126],\n",
              "       [1950,  141],\n",
              "       [1950,  135],\n",
              "       [1950,  125],\n",
              "       [1950,  149],\n",
              "       [1950,  170],\n",
              "       [1950,  170],\n",
              "       [1950,  158],\n",
              "       [1950,  133],\n",
              "       [1950,  114],\n",
              "       [1950,  140],\n",
              "       [1951,  145],\n",
              "       [1951,  150],\n",
              "       [1951,  178],\n",
              "       [1951,  163],\n",
              "       [1951,  172],\n",
              "       [1951,  178],\n",
              "       [1951,  199],\n",
              "       [1951,  199],\n",
              "       [1951,  184],\n",
              "       [1951,  162],\n",
              "       [1951,  146],\n",
              "       [1951,  166],\n",
              "       [1952,  171],\n",
              "       [1952,  180],\n",
              "       [1952,  193],\n",
              "       [1952,  181],\n",
              "       [1952,  183],\n",
              "       [1952,  218],\n",
              "       [1952,  230],\n",
              "       [1952,  242],\n",
              "       [1952,  209],\n",
              "       [1952,  191],\n",
              "       [1952,  172],\n",
              "       [1952,  194],\n",
              "       [1953,  196],\n",
              "       [1953,  196],\n",
              "       [1953,  236],\n",
              "       [1953,  235],\n",
              "       [1953,  229],\n",
              "       [1953,  243],\n",
              "       [1953,  264],\n",
              "       [1953,  272],\n",
              "       [1953,  237],\n",
              "       [1953,  211],\n",
              "       [1953,  180],\n",
              "       [1953,  201],\n",
              "       [1954,  204],\n",
              "       [1954,  188],\n",
              "       [1954,  235],\n",
              "       [1954,  227],\n",
              "       [1954,  234],\n",
              "       [1954,  264],\n",
              "       [1954,  302],\n",
              "       [1954,  293],\n",
              "       [1954,  259],\n",
              "       [1954,  229],\n",
              "       [1954,  203],\n",
              "       [1954,  229],\n",
              "       [1955,  242],\n",
              "       [1955,  233],\n",
              "       [1955,  267],\n",
              "       [1955,  269],\n",
              "       [1955,  270],\n",
              "       [1955,  315],\n",
              "       [1955,  364],\n",
              "       [1955,  347],\n",
              "       [1955,  312],\n",
              "       [1955,  274],\n",
              "       [1955,  237],\n",
              "       [1955,  278],\n",
              "       [1956,  284],\n",
              "       [1956,  277],\n",
              "       [1956,  317],\n",
              "       [1956,  313],\n",
              "       [1956,  318],\n",
              "       [1956,  374],\n",
              "       [1956,  413],\n",
              "       [1956,  405],\n",
              "       [1956,  355],\n",
              "       [1956,  306],\n",
              "       [1956,  271],\n",
              "       [1956,  306],\n",
              "       [1957,  315],\n",
              "       [1957,  301],\n",
              "       [1957,  356],\n",
              "       [1957,  348],\n",
              "       [1957,  355],\n",
              "       [1957,  422],\n",
              "       [1957,  465],\n",
              "       [1957,  467],\n",
              "       [1957,  404],\n",
              "       [1957,  347],\n",
              "       [1957,  305],\n",
              "       [1957,  336],\n",
              "       [1958,  340],\n",
              "       [1958,  318],\n",
              "       [1958,  362],\n",
              "       [1958,  348],\n",
              "       [1958,  363],\n",
              "       [1958,  435],\n",
              "       [1958,  491],\n",
              "       [1958,  505],\n",
              "       [1958,  404],\n",
              "       [1958,  359],\n",
              "       [1958,  310],\n",
              "       [1958,  337],\n",
              "       [1959,  360],\n",
              "       [1959,  342],\n",
              "       [1959,  406],\n",
              "       [1959,  396],\n",
              "       [1959,  420],\n",
              "       [1959,  472],\n",
              "       [1959,  548],\n",
              "       [1959,  559],\n",
              "       [1959,  463],\n",
              "       [1959,  407],\n",
              "       [1959,  362],\n",
              "       [1959,  405],\n",
              "       [1960,  417],\n",
              "       [1960,  391],\n",
              "       [1960,  419],\n",
              "       [1960,  461],\n",
              "       [1960,  472],\n",
              "       [1960,  535],\n",
              "       [1960,  622],\n",
              "       [1960,  606],\n",
              "       [1960,  508],\n",
              "       [1960,  461],\n",
              "       [1960,  390],\n",
              "       [1960,  432]])"
            ]
          },
          "metadata": {},
          "execution_count": 85
        }
      ]
    },
    {
      "cell_type": "code",
      "source": [
        "import scipy.cluster.hierarchy as shc\n",
        "plt.figure(figsize=(10,7))\n",
        "plt.title(\"flight\")\n",
        "dend = shc.dendrogram(shc.linkage(flight, method = 'ward'))"
      ],
      "metadata": {
        "colab": {
          "base_uri": "https://localhost:8080/",
          "height": 444
        },
        "id": "iUt71V9PxNTG",
        "outputId": "b2700ca2-97c2-4d2c-f0c2-16fb8640e134"
      },
      "execution_count": null,
      "outputs": [
        {
          "output_type": "display_data",
          "data": {
            "text/plain": [
              "<Figure size 720x504 with 1 Axes>"
            ],
            "image/png": "[encoded data removed]"
          },
          "metadata": {
            "needs_background": "light"
          }
        }
      ]
    },
    {
      "cell_type": "code",
      "source": [
        "from sklearn import cluster\n",
        "from sklearn.cluster import AgglomerativeClustering\n",
        "from numpy import linalg\n",
        "cluster = AgglomerativeClustering(n_clusters=3, affinity='euclidean', linkage='ward')\n",
        "cluster.fit_predict(flight)"
      ],
      "metadata": {
        "id": "L6VslmNyxmD3",
        "colab": {
          "base_uri": "https://localhost:8080/"
        },
        "outputId": "b22b639a-000b-4d5f-b46e-bdd2c5489bc3"
      },
      "execution_count": null,
      "outputs": [
        {
          "output_type": "execute_result",
          "data": {
            "text/plain": [
              "array([2, 2, 2, 2, 2, 2, 2, 2, 2, 2, 2, 2, 2, 2, 2, 2, 2, 2, 2, 2, 2, 2,\n",
              "       2, 2, 2, 2, 2, 2, 2, 2, 2, 2, 2, 2, 2, 2, 2, 2, 2, 2, 2, 2, 0, 0,\n",
              "       2, 2, 2, 2, 2, 2, 0, 0, 0, 0, 0, 0, 0, 2, 2, 2, 2, 2, 0, 0, 0, 0,\n",
              "       0, 0, 0, 0, 2, 0, 0, 0, 0, 0, 0, 0, 0, 0, 0, 0, 0, 0, 0, 0, 0, 0,\n",
              "       0, 0, 1, 1, 0, 0, 0, 0, 0, 0, 0, 0, 0, 1, 1, 1, 1, 0, 0, 0, 0, 0,\n",
              "       0, 0, 0, 1, 1, 1, 1, 0, 0, 0, 0, 0, 1, 1, 1, 1, 1, 1, 1, 1, 0, 1,\n",
              "       1, 1, 1, 1, 1, 1, 1, 1, 1, 1, 1, 1])"
            ]
          },
          "metadata": {},
          "execution_count": 87
        }
      ]
    },
    {
      "cell_type": "code",
      "source": [
        "plt.figure(figsize=(10,7))\n",
        "plt.scatter(flight[:,0],flight[:,1], c=cluster.labels_,cmap='rainbow')"
      ],
      "metadata": {
        "colab": {
          "base_uri": "https://localhost:8080/",
          "height": 446
        },
        "id": "ruFsaRY0QAUF",
        "outputId": "2dcd7dfb-cd1f-43f8-e951-cc0d0039bd94"
      },
      "execution_count": null,
      "outputs": [
        {
          "output_type": "execute_result",
          "data": {
            "text/plain": [
              "<matplotlib.collections.PathCollection at 0x7fcb29f4d390>"
            ]
          },
          "metadata": {},
          "execution_count": 88
        },
        {
          "output_type": "display_data",
          "data": {
            "text/plain": [
              "<Figure size 720x504 with 1 Axes>"
            ],
            "image/png": "[encoded data removed]"
          },
          "metadata": {
            "needs_background": "light"
          }
        }
      ]
    }
  ]
}